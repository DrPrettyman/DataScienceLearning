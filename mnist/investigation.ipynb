{
 "cells": [
  {
   "cell_type": "markdown",
   "metadata": {},
   "source": [
    "# Investigating MNIST dataset"
   ]
  },
  {
   "cell_type": "code",
   "execution_count": 10,
   "metadata": {},
   "outputs": [],
   "source": [
    "import os, sys\n",
    "sys.path.append(os.path.abspath(os.path.join(os.getcwd(), \"..\")))\n",
    "\n",
    "from datasets.mnist.fetch_data import fetch_data\n",
    "\n",
    "from sklearn.datasets import fetch_openml\n",
    "import matplotlib.pyplot as plt\n",
    "import pandas as pd\n",
    "import numpy as np"
   ]
  },
  {
   "cell_type": "code",
   "execution_count": 3,
   "metadata": {},
   "outputs": [],
   "source": [
    "X_train, X_test, y_train, y_test = fetch_data()"
   ]
  },
  {
   "cell_type": "code",
   "execution_count": 4,
   "metadata": {},
   "outputs": [
    {
     "data": {
      "image/png": "[encoded data removed]",
      "text/plain": [
       "<Figure size 640x480 with 1 Axes>"
      ]
     },
     "metadata": {},
     "output_type": "display_data"
    }
   ],
   "source": [
    "plt.imshow(X_train[0].reshape(28, 28), cmap='binary')\n",
    "plt.axis(\"off\")\n",
    "plt.show()"
   ]
  },
  {
   "cell_type": "code",
   "execution_count": 5,
   "metadata": {},
   "outputs": [
    {
     "data": {
      "text/plain": [
       "np.int64(5)"
      ]
     },
     "execution_count": 5,
     "metadata": {},
     "output_type": "execute_result"
    }
   ],
   "source": [
    "y_train[0]"
   ]
  },
  {
   "cell_type": "markdown",
   "metadata": {},
   "source": [
    "# Binary Classifier"
   ]
  },
  {
   "cell_type": "code",
   "execution_count": null,
   "metadata": {},
   "outputs": [],
   "source": []
  },
  {
   "cell_type": "code",
   "execution_count": null,
   "metadata": {},
   "outputs": [],
   "source": []
  },
  {
   "cell_type": "code",
   "execution_count": null,
   "metadata": {},
   "outputs": [],
   "source": []
  },
  {
   "cell_type": "code",
   "execution_count": null,
   "metadata": {},
   "outputs": [],
   "source": []
  },
  {
   "cell_type": "code",
   "execution_count": null,
   "metadata": {},
   "outputs": [],
   "source": []
  },
  {
   "cell_type": "code",
   "execution_count": 100,
   "metadata": {},
   "outputs": [],
   "source": [
    "class LeastSquares:\n",
    "\tdef __init__(self):\n",
    "\t\tself.beta = None\n",
    "        \n",
    "\t@staticmethod\n",
    "\tdef pad_ones(X: np.matrix):\n",
    "\t\tif isinstance(X, (float, int)):\n",
    "\t\t\tX = np.array([X])\n",
    "\t\tif isinstance(X, np.ndarray):\n",
    "\t\t\tX = np.matrix(X)\n",
    "\t\t# Include an extra constant value of 1 in each X value\n",
    "\t\treturn np.concatenate((np.ones((X.shape[0], 1)), X), axis=1)\n",
    "    \n",
    "\tdef fit(self, X, Y):\n",
    "\t\tX = self.pad_ones(X)\n",
    "\t\tself.beta = np.linalg.inv(X.T*X) * (X.T * Y)\n",
    "\t\treturn self\n",
    "        \n",
    "\tdef predict(self, X):\n",
    "\t\tX = self.pad_ones(X)\n",
    "\t\treturn X*self.beta"
   ]
  },
  {
   "cell_type": "code",
   "execution_count": 129,
   "metadata": {},
   "outputs": [],
   "source": [
    "X = np.matrix(2 * np.random.rand(100, 2))  # Some random values for X\n",
    "y = 2 + X * np.matrix([[3], [7]]) + np.random.rand(100, 2)  # y is a linear function of X, plus some noise"
   ]
  },
  {
   "cell_type": "markdown",
   "metadata": {},
   "source": [
    "$$y = 2 + \\left(\n",
    "\\begin{array}{c}\n",
    "3\\\\\n",
    "7\\\\\n",
    "\\end{array}\n",
    "\\right) X + \\eta$$"
   ]
  },
  {
   "cell_type": "code",
   "execution_count": 125,
   "metadata": {},
   "outputs": [
    {
     "data": {
      "text/plain": [
       "matrix([[13.41193086],\n",
       "        [ 5.50055144],\n",
       "        [21.06705111],\n",
       "        [13.3200843 ],\n",
       "        [14.11767021],\n",
       "        [11.25868457],\n",
       "        [12.75459388],\n",
       "        [16.64815276],\n",
       "        [ 7.10688445],\n",
       "        [ 8.67823068],\n",
       "        [17.09534181],\n",
       "        [ 8.00742556],\n",
       "        [ 4.84626173],\n",
       "        [19.78008934],\n",
       "        [15.04164184],\n",
       "        [ 8.53660464],\n",
       "        [16.28440963],\n",
       "        [18.56547092],\n",
       "        [19.15495832],\n",
       "        [14.77663061],\n",
       "        [15.63405676],\n",
       "        [15.80417913],\n",
       "        [17.85764972],\n",
       "        [ 7.84251828],\n",
       "        [18.74918889],\n",
       "        [15.42079135],\n",
       "        [ 9.06703999],\n",
       "        [ 9.22926279],\n",
       "        [15.65949737],\n",
       "        [ 9.51793069],\n",
       "        [18.99491737],\n",
       "        [ 5.38057084],\n",
       "        [13.16683685],\n",
       "        [ 5.4911762 ],\n",
       "        [14.29762437],\n",
       "        [20.33501926],\n",
       "        [15.41870383],\n",
       "        [14.87592275],\n",
       "        [ 7.93159794],\n",
       "        [15.01607684],\n",
       "        [ 7.70178533],\n",
       "        [18.22544756],\n",
       "        [ 8.79324444],\n",
       "        [15.05436689],\n",
       "        [12.80269197],\n",
       "        [10.69037136],\n",
       "        [11.22174433],\n",
       "        [19.01508159],\n",
       "        [11.91305558],\n",
       "        [ 5.91158773],\n",
       "        [10.10163863],\n",
       "        [ 5.573597  ],\n",
       "        [15.37812015],\n",
       "        [18.15741546],\n",
       "        [ 9.74742001],\n",
       "        [15.46987062],\n",
       "        [13.59888357],\n",
       "        [16.44812712],\n",
       "        [10.11542824],\n",
       "        [ 7.99067651],\n",
       "        [17.28913275],\n",
       "        [ 3.0585561 ],\n",
       "        [12.78929985],\n",
       "        [13.18012183],\n",
       "        [ 8.60700748],\n",
       "        [ 9.99246155],\n",
       "        [10.75504228],\n",
       "        [17.07862793],\n",
       "        [15.03478127],\n",
       "        [10.82307153],\n",
       "        [10.04853458],\n",
       "        [12.97006276],\n",
       "        [14.62362887],\n",
       "        [15.14531239],\n",
       "        [ 6.06192011],\n",
       "        [15.180048  ],\n",
       "        [ 9.86434395],\n",
       "        [12.39001764],\n",
       "        [ 8.6660835 ],\n",
       "        [17.60649876],\n",
       "        [10.55663331],\n",
       "        [ 8.07371512],\n",
       "        [16.2337471 ],\n",
       "        [ 5.33577541],\n",
       "        [19.31284198],\n",
       "        [ 6.57977491],\n",
       "        [11.07896591],\n",
       "        [ 5.21043189],\n",
       "        [16.17813349],\n",
       "        [ 4.14548375],\n",
       "        [11.56931453],\n",
       "        [14.18808851],\n",
       "        [14.26795438],\n",
       "        [11.95061861],\n",
       "        [12.13141838],\n",
       "        [ 3.92930605],\n",
       "        [12.68817686],\n",
       "        [16.64167825],\n",
       "        [ 6.82007472],\n",
       "        [ 3.30535196]])"
      ]
     },
     "execution_count": 125,
     "metadata": {},
     "output_type": "execute_result"
    }
   ],
   "source": [
    "y"
   ]
  },
  {
   "cell_type": "code",
   "execution_count": 126,
   "metadata": {},
   "outputs": [],
   "source": [
    "ls = LeastSquares().fit(X, y)"
   ]
  },
  {
   "cell_type": "code",
   "execution_count": 127,
   "metadata": {},
   "outputs": [
    {
     "data": {
      "text/plain": [
       "matrix([[2.],\n",
       "        [3.],\n",
       "        [7.]])"
      ]
     },
     "execution_count": 127,
     "metadata": {},
     "output_type": "execute_result"
    }
   ],
   "source": [
    "ls.beta"
   ]
  },
  {
   "cell_type": "code",
   "execution_count": 104,
   "metadata": {},
   "outputs": [
    {
     "data": {
      "text/plain": [
       "matrix([[19.33405982]])"
      ]
     },
     "execution_count": 104,
     "metadata": {},
     "output_type": "execute_result"
    }
   ],
   "source": [
    "ls.predict(5)"
   ]
  },
  {
   "cell_type": "code",
   "execution_count": null,
   "metadata": {},
   "outputs": [],
   "source": []
  }
 ],
 "metadata": {
  "kernelspec": {
   "display_name": "Python 3",
   "language": "python",
   "name": "python3"
  },
  "language_info": {
   "codemirror_mode": {
    "name": "ipython",
    "version": 3
   },
   "file_extension": ".py",
   "mimetype": "text/x-python",
   "name": "python",
   "nbconvert_exporter": "python",
   "pygments_lexer": "ipython3",
   "version": "3.12.7"
  }
 },
 "nbformat": 4,
 "nbformat_minor": 2
}
